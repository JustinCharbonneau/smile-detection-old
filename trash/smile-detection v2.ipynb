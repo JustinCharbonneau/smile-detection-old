{
 "cells": [
  {
   "cell_type": "markdown",
   "metadata": {},
   "source": [
    "# Transfer Learning"
   ]
  },
  {
   "cell_type": "code",
   "execution_count": 31,
   "metadata": {},
   "outputs": [],
   "source": [
    "from keras.applications import VGG16"
   ]
  },
  {
   "cell_type": "code",
   "execution_count": 32,
   "metadata": {},
   "outputs": [],
   "source": [
    "# Load the convolutional base from imagenet\n",
    "conv_base = VGG16(weights='imagenet',\n",
    "                  include_top=False,\n",
    "                  input_shape=(64,64,3))"
   ]
  },
  {
   "cell_type": "code",
   "execution_count": 3,
   "metadata": {},
   "outputs": [],
   "source": [
    "#conv_base.summary()"
   ]
  },
  {
   "cell_type": "code",
   "execution_count": 4,
   "metadata": {},
   "outputs": [],
   "source": [
    "import os\n",
    "import numpy as np\n",
    "from keras.preprocessing.image import ImageDataGenerator"
   ]
  },
  {
   "cell_type": "code",
   "execution_count": 5,
   "metadata": {},
   "outputs": [],
   "source": [
    "# train_dir = 'images/training'\n",
    "# validation_dir = 'images/testing'\n",
    "\n",
    "train_dir = 'SMILE_Dataset/train/'\n",
    "validation_dir = 'SMILE_Dataset/test/'"
   ]
  },
  {
   "cell_type": "code",
   "execution_count": 6,
   "metadata": {},
   "outputs": [],
   "source": [
    "datagen = ImageDataGenerator(rescale=1./255)  # Rescale images to 0-1\n",
    "batch_size = 32  # Number of batches to read from default 32"
   ]
  },
  {
   "cell_type": "code",
   "execution_count": 7,
   "metadata": {},
   "outputs": [],
   "source": [
    "def extract_features(directory, sample_count):\n",
    "    \"\"\"\n",
    "    extract the features when processing images through the convolutional base. The features will be fed to \n",
    "    classification neural network\n",
    "    \"\"\"\n",
    "    # Create emtpy array\n",
    "    features = np.zeros(shape=(sample_count, 2, 2, 512))\n",
    "    # Here I added the shape \n",
    "    labels = np.zeros(shape=(sample_count,2))\n",
    "    # define the generator that is going to grab 20 images at a time and loop infinitly.\n",
    "    generator = datagen.flow_from_directory(\n",
    "        directory,\n",
    "        target_size=(64,64),\n",
    "        batch_size=batch_size,\n",
    "        class_mode='categorical'\n",
    "        )\n",
    "    # Usefull for mapping label names\n",
    "    label_map = (generator.class_indices)\n",
    "    i=0\n",
    "    \n",
    "    # Extract features\n",
    "    for inputs_batch, labels_batch in generator:\n",
    "        features_batch = conv_base.predict(inputs_batch)\n",
    "        features[i * batch_size : (i + 1) * batch_size] = features_batch\n",
    "        labels[i * batch_size : (i + 1) * batch_size] = labels_batch\n",
    "        i += 1\n",
    "        # Break because the generator will loop infinitly\n",
    "        if i * batch_size >= sample_count:\n",
    "            break\n",
    "    return features, labels, label_map"
   ]
  },
  {
   "cell_type": "code",
   "execution_count": 11,
   "metadata": {},
   "outputs": [
    {
     "name": "stdout",
     "output_type": "stream",
     "text": [
      "100\n",
      "100\n",
      "200\n"
     ]
    }
   ],
   "source": [
    "total_training = 0\n",
    "for folder in os.listdir(\"images/testing\"):\n",
    "    total_training += len(os.listdir( os.path.join('images/testing',folder)))\n",
    "    print(len(os.listdir( os.path.join('images/testing',folder))))\n",
    "print(total_training)"
   ]
  },
  {
   "cell_type": "code",
   "execution_count": 27,
   "metadata": {},
   "outputs": [
    {
     "name": "stdout",
     "output_type": "stream",
     "text": [
      "Found 320 images belonging to 2 classes.\n",
      "Found 80 images belonging to 2 classes.\n"
     ]
    }
   ],
   "source": [
    "train_features, train_labels, label_map = extract_features(train_dir, 320)\n",
    "validation_features, validation_labels, label_map = extract_features(validation_dir, 80)"
   ]
  },
  {
   "cell_type": "code",
   "execution_count": 28,
   "metadata": {},
   "outputs": [
    {
     "data": {
      "text/plain": [
       "(320, 2, 2, 512)"
      ]
     },
     "execution_count": 28,
     "metadata": {},
     "output_type": "execute_result"
    }
   ],
   "source": [
    "train_features.shape"
   ]
  },
  {
   "cell_type": "code",
   "execution_count": null,
   "metadata": {},
   "outputs": [],
   "source": []
  },
  {
   "cell_type": "code",
   "execution_count": 29,
   "metadata": {},
   "outputs": [],
   "source": [
    "train_features = np.reshape(train_features, (320, 2 * 2 * 512))\n",
    "validation_features = np.reshape(validation_features, (80, 2 * 2 * 512))"
   ]
  },
  {
   "cell_type": "code",
   "execution_count": 30,
   "metadata": {},
   "outputs": [
    {
     "data": {
      "text/plain": [
       "(320, 2048)"
      ]
     },
     "execution_count": 30,
     "metadata": {},
     "output_type": "execute_result"
    }
   ],
   "source": [
    "train_features.shape"
   ]
  },
  {
   "cell_type": "code",
   "execution_count": 11,
   "metadata": {},
   "outputs": [],
   "source": [
    "label_map2 = label_map"
   ]
  },
  {
   "cell_type": "markdown",
   "metadata": {},
   "source": [
    "WE have transferer learned, now lets take this and feed it as input to our classification model.\n"
   ]
  },
  {
   "cell_type": "code",
   "execution_count": 12,
   "metadata": {},
   "outputs": [],
   "source": [
    "from keras import models\n",
    "from keras import layers\n",
    "from keras import optimizers"
   ]
  },
  {
   "cell_type": "code",
   "execution_count": 13,
   "metadata": {},
   "outputs": [
    {
     "name": "stdout",
     "output_type": "stream",
     "text": [
      "WARNING:tensorflow:From c:\\users\\justin\\appdata\\local\\programs\\python\\python37\\lib\\site-packages\\tensorflow\\python\\ops\\math_grad.py:1250: add_dispatch_support.<locals>.wrapper (from tensorflow.python.ops.array_ops) is deprecated and will be removed in a future version.\n",
      "Instructions for updating:\n",
      "Use tf.where in 2.0, which has the same broadcast rule as np.where\n",
      "Train on 320 samples, validate on 80 samples\n",
      "Epoch 1/150\n",
      "320/320 [==============================] - 0s 2ms/step - loss: 0.9090 - acc: 0.5312 - val_loss: 0.6782 - val_acc: 0.5000\n",
      "Epoch 2/150\n",
      "320/320 [==============================] - 0s 474us/step - loss: 0.8665 - acc: 0.5437 - val_loss: 0.6492 - val_acc: 0.5000\n",
      "Epoch 3/150\n",
      "320/320 [==============================] - 0s 439us/step - loss: 0.8548 - acc: 0.5312 - val_loss: 0.6285 - val_acc: 0.5375\n",
      "Epoch 4/150\n",
      "320/320 [==============================] - 0s 496us/step - loss: 0.7510 - acc: 0.5469 - val_loss: 0.6100 - val_acc: 0.6375\n",
      "Epoch 5/150\n",
      "320/320 [==============================] - 0s 411us/step - loss: 0.7656 - acc: 0.5719 - val_loss: 0.5955 - val_acc: 0.6500\n",
      "Epoch 6/150\n",
      "320/320 [==============================] - 0s 471us/step - loss: 0.7537 - acc: 0.6156 - val_loss: 0.5786 - val_acc: 0.7750\n",
      "Epoch 7/150\n",
      "320/320 [==============================] - 0s 446us/step - loss: 0.7273 - acc: 0.5750 - val_loss: 0.5622 - val_acc: 0.8125\n",
      "Epoch 8/150\n",
      "320/320 [==============================] - 0s 443us/step - loss: 0.7161 - acc: 0.6000 - val_loss: 0.5472 - val_acc: 0.8125\n",
      "Epoch 9/150\n",
      "320/320 [==============================] - 0s 452us/step - loss: 0.6653 - acc: 0.6219 - val_loss: 0.5329 - val_acc: 0.8000\n",
      "Epoch 10/150\n",
      "320/320 [==============================] - 0s 511us/step - loss: 0.6223 - acc: 0.6469 - val_loss: 0.5206 - val_acc: 0.8125\n",
      "Epoch 11/150\n",
      "320/320 [==============================] - 0s 446us/step - loss: 0.5877 - acc: 0.7156 - val_loss: 0.5092 - val_acc: 0.8125\n",
      "Epoch 12/150\n",
      "320/320 [==============================] - 0s 396us/step - loss: 0.5891 - acc: 0.6594 - val_loss: 0.4956 - val_acc: 0.8125\n",
      "Epoch 13/150\n",
      "320/320 [==============================] - 0s 408us/step - loss: 0.5918 - acc: 0.6781 - val_loss: 0.4826 - val_acc: 0.8125\n",
      "Epoch 14/150\n",
      "320/320 [==============================] - 0s 511us/step - loss: 0.5483 - acc: 0.7125 - val_loss: 0.4713 - val_acc: 0.8125\n",
      "Epoch 15/150\n",
      "320/320 [==============================] - 0s 424us/step - loss: 0.5508 - acc: 0.7094 - val_loss: 0.4622 - val_acc: 0.8125\n",
      "Epoch 16/150\n",
      "320/320 [==============================] - 0s 480us/step - loss: 0.5251 - acc: 0.7406 - val_loss: 0.4512 - val_acc: 0.8250\n",
      "Epoch 17/150\n",
      "320/320 [==============================] - 0s 499us/step - loss: 0.5083 - acc: 0.7656 - val_loss: 0.4431 - val_acc: 0.8125\n",
      "Epoch 18/150\n",
      "320/320 [==============================] - 0s 424us/step - loss: 0.4778 - acc: 0.7969 - val_loss: 0.4329 - val_acc: 0.8250\n",
      "Epoch 19/150\n",
      "320/320 [==============================] - 0s 427us/step - loss: 0.5008 - acc: 0.7531 - val_loss: 0.4252 - val_acc: 0.8250\n",
      "Epoch 20/150\n",
      "320/320 [==============================] - 0s 492us/step - loss: 0.5029 - acc: 0.7688 - val_loss: 0.4189 - val_acc: 0.8250\n",
      "Epoch 21/150\n",
      "320/320 [==============================] - 0s 467us/step - loss: 0.5012 - acc: 0.7594 - val_loss: 0.4133 - val_acc: 0.8250\n",
      "Epoch 22/150\n",
      "320/320 [==============================] - 0s 415us/step - loss: 0.4813 - acc: 0.7750 - val_loss: 0.4064 - val_acc: 0.8125\n",
      "Epoch 23/150\n",
      "320/320 [==============================] - 0s 436us/step - loss: 0.4656 - acc: 0.7656 - val_loss: 0.4006 - val_acc: 0.8375\n",
      "Epoch 24/150\n",
      "320/320 [==============================] - 0s 508us/step - loss: 0.4617 - acc: 0.7937 - val_loss: 0.3953 - val_acc: 0.8250\n",
      "Epoch 25/150\n",
      "320/320 [==============================] - 0s 399us/step - loss: 0.4388 - acc: 0.8219 - val_loss: 0.3908 - val_acc: 0.8250\n",
      "Epoch 26/150\n",
      "320/320 [==============================] - 0s 458us/step - loss: 0.3999 - acc: 0.8500 - val_loss: 0.3877 - val_acc: 0.8250\n",
      "Epoch 27/150\n",
      "320/320 [==============================] - 0s 539us/step - loss: 0.4025 - acc: 0.8281 - val_loss: 0.3818 - val_acc: 0.8250\n",
      "Epoch 28/150\n",
      "320/320 [==============================] - 0s 386us/step - loss: 0.4026 - acc: 0.8156 - val_loss: 0.3787 - val_acc: 0.8250\n",
      "Epoch 29/150\n",
      "320/320 [==============================] - 0s 365us/step - loss: 0.3742 - acc: 0.8375 - val_loss: 0.3725 - val_acc: 0.8250\n",
      "Epoch 30/150\n",
      "320/320 [==============================] - 0s 458us/step - loss: 0.3428 - acc: 0.8656 - val_loss: 0.3741 - val_acc: 0.8250\n",
      "Epoch 31/150\n",
      "320/320 [==============================] - 0s 408us/step - loss: 0.3835 - acc: 0.8344 - val_loss: 0.3682 - val_acc: 0.8250\n",
      "Epoch 32/150\n",
      "320/320 [==============================] - 0s 415us/step - loss: 0.3728 - acc: 0.8469 - val_loss: 0.3655 - val_acc: 0.8250\n",
      "Epoch 33/150\n",
      "320/320 [==============================] - 0s 458us/step - loss: 0.3499 - acc: 0.8562 - val_loss: 0.3639 - val_acc: 0.8250\n",
      "Epoch 34/150\n",
      "320/320 [==============================] - 0s 514us/step - loss: 0.3243 - acc: 0.8875 - val_loss: 0.3630 - val_acc: 0.8250\n",
      "Epoch 35/150\n",
      "320/320 [==============================] - 0s 508us/step - loss: 0.3546 - acc: 0.8469 - val_loss: 0.3566 - val_acc: 0.8250\n",
      "Epoch 36/150\n",
      "320/320 [==============================] - 0s 486us/step - loss: 0.3782 - acc: 0.8500 - val_loss: 0.3603 - val_acc: 0.8250\n",
      "Epoch 37/150\n",
      "320/320 [==============================] - 0s 458us/step - loss: 0.3253 - acc: 0.8750 - val_loss: 0.3568 - val_acc: 0.8250\n",
      "Epoch 38/150\n",
      "320/320 [==============================] - 0s 477us/step - loss: 0.3005 - acc: 0.8875 - val_loss: 0.3561 - val_acc: 0.8250\n",
      "Epoch 39/150\n",
      "320/320 [==============================] - 0s 439us/step - loss: 0.3053 - acc: 0.8875 - val_loss: 0.3532 - val_acc: 0.8250\n",
      "Epoch 40/150\n",
      "320/320 [==============================] - 0s 505us/step - loss: 0.2912 - acc: 0.8844 - val_loss: 0.3513 - val_acc: 0.8250\n",
      "Epoch 41/150\n",
      "320/320 [==============================] - 0s 483us/step - loss: 0.3153 - acc: 0.8750 - val_loss: 0.3451 - val_acc: 0.8375\n",
      "Epoch 42/150\n",
      "320/320 [==============================] - 0s 433us/step - loss: 0.2866 - acc: 0.8969 - val_loss: 0.3463 - val_acc: 0.8250\n",
      "Epoch 43/150\n",
      "320/320 [==============================] - 0s 474us/step - loss: 0.3226 - acc: 0.8531 - val_loss: 0.3449 - val_acc: 0.8250\n",
      "Epoch 44/150\n",
      "320/320 [==============================] - 0s 402us/step - loss: 0.3226 - acc: 0.8469 - val_loss: 0.3406 - val_acc: 0.8375\n",
      "Epoch 45/150\n",
      "320/320 [==============================] - 0s 421us/step - loss: 0.2783 - acc: 0.9094 - val_loss: 0.3379 - val_acc: 0.8375\n",
      "Epoch 46/150\n",
      "320/320 [==============================] - 0s 415us/step - loss: 0.2603 - acc: 0.9125 - val_loss: 0.3354 - val_acc: 0.8375\n",
      "Epoch 47/150\n",
      "320/320 [==============================] - 0s 486us/step - loss: 0.3150 - acc: 0.8719 - val_loss: 0.3385 - val_acc: 0.8375\n",
      "Epoch 48/150\n",
      "320/320 [==============================] - 0s 464us/step - loss: 0.2902 - acc: 0.8906 - val_loss: 0.3328 - val_acc: 0.8500\n",
      "Epoch 49/150\n",
      "320/320 [==============================] - 0s 477us/step - loss: 0.2747 - acc: 0.8906 - val_loss: 0.3397 - val_acc: 0.8375\n",
      "Epoch 50/150\n",
      "320/320 [==============================] - 0s 505us/step - loss: 0.2914 - acc: 0.8813 - val_loss: 0.3368 - val_acc: 0.8375\n",
      "Epoch 51/150\n",
      "320/320 [==============================] - 0s 527us/step - loss: 0.2528 - acc: 0.9062 - val_loss: 0.3431 - val_acc: 0.8250\n",
      "Epoch 52/150\n",
      "320/320 [==============================] - 0s 505us/step - loss: 0.2489 - acc: 0.9250 - val_loss: 0.3431 - val_acc: 0.8250\n",
      "Epoch 53/150\n",
      "320/320 [==============================] - 0s 499us/step - loss: 0.2325 - acc: 0.9094 - val_loss: 0.3396 - val_acc: 0.8250\n",
      "Epoch 54/150\n",
      "320/320 [==============================] - 0s 455us/step - loss: 0.2594 - acc: 0.9031 - val_loss: 0.3388 - val_acc: 0.8375\n",
      "Epoch 55/150\n",
      "320/320 [==============================] - 0s 477us/step - loss: 0.2708 - acc: 0.9000 - val_loss: 0.3392 - val_acc: 0.8250\n",
      "Epoch 56/150\n",
      "320/320 [==============================] - 0s 530us/step - loss: 0.2472 - acc: 0.9250 - val_loss: 0.3346 - val_acc: 0.8375\n",
      "Epoch 57/150\n",
      "320/320 [==============================] - 0s 561us/step - loss: 0.2389 - acc: 0.9094 - val_loss: 0.3324 - val_acc: 0.8375\n",
      "Epoch 58/150\n"
     ]
    },
    {
     "name": "stdout",
     "output_type": "stream",
     "text": [
      "320/320 [==============================] - 0s 564us/step - loss: 0.2367 - acc: 0.9094 - val_loss: 0.3407 - val_acc: 0.8250\n",
      "Epoch 59/150\n",
      "320/320 [==============================] - 0s 499us/step - loss: 0.2522 - acc: 0.9031 - val_loss: 0.3452 - val_acc: 0.8125\n",
      "Epoch 60/150\n",
      "320/320 [==============================] - 0s 421us/step - loss: 0.2327 - acc: 0.9156 - val_loss: 0.3287 - val_acc: 0.8375\n",
      "Epoch 61/150\n",
      "320/320 [==============================] - 0s 592us/step - loss: 0.2172 - acc: 0.9250 - val_loss: 0.3316 - val_acc: 0.8375\n",
      "Epoch 62/150\n",
      "320/320 [==============================] - 0s 424us/step - loss: 0.2393 - acc: 0.8938 - val_loss: 0.3288 - val_acc: 0.8500\n",
      "Epoch 63/150\n",
      "320/320 [==============================] - 0s 439us/step - loss: 0.2572 - acc: 0.9000 - val_loss: 0.3264 - val_acc: 0.8625\n",
      "Epoch 64/150\n",
      "320/320 [==============================] - 0s 402us/step - loss: 0.2326 - acc: 0.9312 - val_loss: 0.3263 - val_acc: 0.8625\n",
      "Epoch 65/150\n",
      "320/320 [==============================] - 0s 380us/step - loss: 0.2174 - acc: 0.9094 - val_loss: 0.3365 - val_acc: 0.8250\n",
      "Epoch 66/150\n",
      "320/320 [==============================] - 0s 408us/step - loss: 0.2403 - acc: 0.9094 - val_loss: 0.3351 - val_acc: 0.8375\n",
      "Epoch 67/150\n",
      "320/320 [==============================] - 0s 402us/step - loss: 0.2025 - acc: 0.9250 - val_loss: 0.3507 - val_acc: 0.8125\n",
      "Epoch 68/150\n",
      "320/320 [==============================] - 0s 405us/step - loss: 0.2096 - acc: 0.9250 - val_loss: 0.3335 - val_acc: 0.8375\n",
      "Epoch 69/150\n",
      "320/320 [==============================] - 0s 399us/step - loss: 0.2410 - acc: 0.9156 - val_loss: 0.3329 - val_acc: 0.8375\n",
      "Epoch 70/150\n",
      "320/320 [==============================] - 0s 386us/step - loss: 0.1960 - acc: 0.9438 - val_loss: 0.3346 - val_acc: 0.8375\n",
      "Epoch 71/150\n",
      "320/320 [==============================] - 0s 433us/step - loss: 0.2133 - acc: 0.9219 - val_loss: 0.3274 - val_acc: 0.8625\n",
      "Epoch 72/150\n",
      "320/320 [==============================] - 0s 415us/step - loss: 0.2222 - acc: 0.9156 - val_loss: 0.3298 - val_acc: 0.8500\n",
      "Epoch 73/150\n",
      "320/320 [==============================] - 0s 415us/step - loss: 0.2135 - acc: 0.9187 - val_loss: 0.3430 - val_acc: 0.8250\n",
      "Epoch 74/150\n",
      "320/320 [==============================] - 0s 424us/step - loss: 0.2124 - acc: 0.9187 - val_loss: 0.3405 - val_acc: 0.8250\n",
      "Epoch 75/150\n",
      "320/320 [==============================] - 0s 399us/step - loss: 0.1958 - acc: 0.9344 - val_loss: 0.3266 - val_acc: 0.8500\n",
      "Epoch 76/150\n",
      "320/320 [==============================] - 0s 411us/step - loss: 0.1806 - acc: 0.9312 - val_loss: 0.3277 - val_acc: 0.8500\n",
      "Epoch 77/150\n",
      "320/320 [==============================] - 0s 436us/step - loss: 0.1985 - acc: 0.9187 - val_loss: 0.3244 - val_acc: 0.8625\n",
      "Epoch 78/150\n",
      "320/320 [==============================] - 0s 418us/step - loss: 0.2055 - acc: 0.9250 - val_loss: 0.3251 - val_acc: 0.8500\n",
      "Epoch 79/150\n",
      "320/320 [==============================] - 0s 380us/step - loss: 0.2125 - acc: 0.9094 - val_loss: 0.3261 - val_acc: 0.8500\n",
      "Epoch 80/150\n",
      "320/320 [==============================] - 0s 411us/step - loss: 0.1811 - acc: 0.9312 - val_loss: 0.3417 - val_acc: 0.8250\n",
      "Epoch 81/150\n",
      "320/320 [==============================] - 0s 415us/step - loss: 0.2055 - acc: 0.9156 - val_loss: 0.3276 - val_acc: 0.8500\n",
      "Epoch 82/150\n",
      "320/320 [==============================] - 0s 471us/step - loss: 0.2058 - acc: 0.9281 - val_loss: 0.3318 - val_acc: 0.8375\n",
      "Epoch 83/150\n",
      "320/320 [==============================] - 0s 455us/step - loss: 0.2016 - acc: 0.9250 - val_loss: 0.3370 - val_acc: 0.8250\n",
      "Epoch 84/150\n",
      "320/320 [==============================] - 0s 430us/step - loss: 0.1680 - acc: 0.9438 - val_loss: 0.3310 - val_acc: 0.8500\n",
      "Epoch 85/150\n",
      "320/320 [==============================] - 0s 402us/step - loss: 0.1775 - acc: 0.9375 - val_loss: 0.3336 - val_acc: 0.8375\n",
      "Epoch 86/150\n",
      "320/320 [==============================] - 0s 415us/step - loss: 0.1776 - acc: 0.9344 - val_loss: 0.3264 - val_acc: 0.8500\n",
      "Epoch 87/150\n",
      "320/320 [==============================] - 0s 408us/step - loss: 0.1692 - acc: 0.9406 - val_loss: 0.3320 - val_acc: 0.8375\n",
      "Epoch 88/150\n",
      "320/320 [==============================] - 0s 421us/step - loss: 0.1877 - acc: 0.9250 - val_loss: 0.3268 - val_acc: 0.8500\n",
      "Epoch 89/150\n",
      "320/320 [==============================] - 0s 408us/step - loss: 0.1870 - acc: 0.9281 - val_loss: 0.3341 - val_acc: 0.8500\n",
      "Epoch 90/150\n",
      "320/320 [==============================] - 0s 427us/step - loss: 0.1925 - acc: 0.9281 - val_loss: 0.3268 - val_acc: 0.8500\n",
      "Epoch 91/150\n",
      "320/320 [==============================] - 0s 405us/step - loss: 0.1509 - acc: 0.9469 - val_loss: 0.3367 - val_acc: 0.8375\n",
      "Epoch 92/150\n",
      "320/320 [==============================] - 0s 455us/step - loss: 0.1961 - acc: 0.9344 - val_loss: 0.3355 - val_acc: 0.8500\n",
      "Epoch 93/150\n",
      "320/320 [==============================] - 0s 436us/step - loss: 0.1714 - acc: 0.9375 - val_loss: 0.3196 - val_acc: 0.8500\n",
      "Epoch 94/150\n",
      "320/320 [==============================] - 0s 421us/step - loss: 0.1723 - acc: 0.9375 - val_loss: 0.3286 - val_acc: 0.8625\n",
      "Epoch 95/150\n",
      "320/320 [==============================] - 0s 443us/step - loss: 0.1636 - acc: 0.9406 - val_loss: 0.3246 - val_acc: 0.8625\n",
      "Epoch 96/150\n",
      "320/320 [==============================] - 0s 405us/step - loss: 0.1615 - acc: 0.9438 - val_loss: 0.3183 - val_acc: 0.8500\n",
      "Epoch 97/150\n",
      "320/320 [==============================] - 0s 421us/step - loss: 0.1723 - acc: 0.9406 - val_loss: 0.3206 - val_acc: 0.8625\n",
      "Epoch 98/150\n",
      "320/320 [==============================] - 0s 430us/step - loss: 0.1786 - acc: 0.9344 - val_loss: 0.3267 - val_acc: 0.8625\n",
      "Epoch 99/150\n",
      "320/320 [==============================] - 0s 386us/step - loss: 0.1565 - acc: 0.9500 - val_loss: 0.3307 - val_acc: 0.8500\n",
      "Epoch 100/150\n",
      "320/320 [==============================] - 0s 424us/step - loss: 0.1636 - acc: 0.9531 - val_loss: 0.3257 - val_acc: 0.8625\n",
      "Epoch 101/150\n",
      "320/320 [==============================] - 0s 458us/step - loss: 0.1479 - acc: 0.9563 - val_loss: 0.3345 - val_acc: 0.8500\n",
      "Epoch 102/150\n",
      "320/320 [==============================] - 0s 421us/step - loss: 0.1701 - acc: 0.9375 - val_loss: 0.3248 - val_acc: 0.8625\n",
      "Epoch 103/150\n",
      "320/320 [==============================] - 0s 408us/step - loss: 0.1917 - acc: 0.9312 - val_loss: 0.3223 - val_acc: 0.8625\n",
      "Epoch 104/150\n",
      "320/320 [==============================] - 0s 427us/step - loss: 0.1538 - acc: 0.9500 - val_loss: 0.3215 - val_acc: 0.8625\n",
      "Epoch 105/150\n",
      "320/320 [==============================] - 0s 405us/step - loss: 0.1634 - acc: 0.9344 - val_loss: 0.3202 - val_acc: 0.8625\n",
      "Epoch 106/150\n",
      "320/320 [==============================] - 0s 402us/step - loss: 0.1591 - acc: 0.9344 - val_loss: 0.3226 - val_acc: 0.8625\n",
      "Epoch 107/150\n",
      "320/320 [==============================] - 0s 380us/step - loss: 0.1507 - acc: 0.9531 - val_loss: 0.3214 - val_acc: 0.8625\n",
      "Epoch 108/150\n",
      "320/320 [==============================] - 0s 390us/step - loss: 0.1491 - acc: 0.9469 - val_loss: 0.3255 - val_acc: 0.8625\n",
      "Epoch 109/150\n",
      "320/320 [==============================] - 0s 386us/step - loss: 0.1430 - acc: 0.9594 - val_loss: 0.3288 - val_acc: 0.8625\n",
      "Epoch 110/150\n",
      "320/320 [==============================] - 0s 443us/step - loss: 0.1326 - acc: 0.9531 - val_loss: 0.3294 - val_acc: 0.8625\n",
      "Epoch 111/150\n",
      "320/320 [==============================] - 0s 418us/step - loss: 0.1358 - acc: 0.9594 - val_loss: 0.3271 - val_acc: 0.8625\n",
      "Epoch 112/150\n",
      "320/320 [==============================] - 0s 411us/step - loss: 0.1577 - acc: 0.9281 - val_loss: 0.3411 - val_acc: 0.8500\n",
      "Epoch 113/150\n",
      "320/320 [==============================] - 0s 408us/step - loss: 0.1585 - acc: 0.9438 - val_loss: 0.3287 - val_acc: 0.8625\n",
      "Epoch 114/150\n",
      "320/320 [==============================] - 0s 386us/step - loss: 0.1602 - acc: 0.9375 - val_loss: 0.3211 - val_acc: 0.8625\n",
      "Epoch 115/150\n",
      "320/320 [==============================] - 0s 411us/step - loss: 0.1381 - acc: 0.9625 - val_loss: 0.3233 - val_acc: 0.8625\n",
      "Epoch 116/150\n",
      "320/320 [==============================] - 0s 408us/step - loss: 0.1614 - acc: 0.9344 - val_loss: 0.3311 - val_acc: 0.8500\n",
      "Epoch 117/150\n",
      "320/320 [==============================] - 0s 464us/step - loss: 0.1416 - acc: 0.9406 - val_loss: 0.3261 - val_acc: 0.8625\n",
      "Epoch 118/150\n"
     ]
    },
    {
     "name": "stdout",
     "output_type": "stream",
     "text": [
      "320/320 [==============================] - 0s 415us/step - loss: 0.1528 - acc: 0.9469 - val_loss: 0.3119 - val_acc: 0.8625\n",
      "Epoch 119/150\n",
      "320/320 [==============================] - 0s 430us/step - loss: 0.1536 - acc: 0.9375 - val_loss: 0.3198 - val_acc: 0.8625\n",
      "Epoch 120/150\n",
      "320/320 [==============================] - 0s 411us/step - loss: 0.1484 - acc: 0.9438 - val_loss: 0.3232 - val_acc: 0.8625\n",
      "Epoch 121/150\n",
      "320/320 [==============================] - 0s 446us/step - loss: 0.1294 - acc: 0.9469 - val_loss: 0.3191 - val_acc: 0.8625\n",
      "Epoch 122/150\n",
      "320/320 [==============================] - 0s 405us/step - loss: 0.1397 - acc: 0.9594 - val_loss: 0.3174 - val_acc: 0.8625\n",
      "Epoch 123/150\n",
      "320/320 [==============================] - 0s 380us/step - loss: 0.1444 - acc: 0.9531 - val_loss: 0.3097 - val_acc: 0.8625\n",
      "Epoch 124/150\n",
      "320/320 [==============================] - 0s 411us/step - loss: 0.1292 - acc: 0.9531 - val_loss: 0.3208 - val_acc: 0.8625\n",
      "Epoch 125/150\n",
      "320/320 [==============================] - 0s 411us/step - loss: 0.1265 - acc: 0.9563 - val_loss: 0.3169 - val_acc: 0.8625\n",
      "Epoch 126/150\n",
      "320/320 [==============================] - 0s 396us/step - loss: 0.1347 - acc: 0.9563 - val_loss: 0.3186 - val_acc: 0.8625\n",
      "Epoch 127/150\n",
      "320/320 [==============================] - 0s 418us/step - loss: 0.1266 - acc: 0.9469 - val_loss: 0.3403 - val_acc: 0.8500\n",
      "Epoch 128/150\n",
      "320/320 [==============================] - 0s 396us/step - loss: 0.1480 - acc: 0.9469 - val_loss: 0.3225 - val_acc: 0.8625\n",
      "Epoch 129/150\n",
      "320/320 [==============================] - 0s 396us/step - loss: 0.1325 - acc: 0.9531 - val_loss: 0.3337 - val_acc: 0.8500\n",
      "Epoch 130/150\n",
      "320/320 [==============================] - 0s 396us/step - loss: 0.1278 - acc: 0.9594 - val_loss: 0.3317 - val_acc: 0.8500\n",
      "Epoch 131/150\n",
      "320/320 [==============================] - 0s 468us/step - loss: 0.1340 - acc: 0.9438 - val_loss: 0.3250 - val_acc: 0.8625\n",
      "Epoch 132/150\n",
      "320/320 [==============================] - 0s 411us/step - loss: 0.1338 - acc: 0.9500 - val_loss: 0.3109 - val_acc: 0.8625\n",
      "Epoch 133/150\n",
      "320/320 [==============================] - 0s 424us/step - loss: 0.1313 - acc: 0.9563 - val_loss: 0.3156 - val_acc: 0.8625\n",
      "Epoch 134/150\n",
      "320/320 [==============================] - 0s 415us/step - loss: 0.1307 - acc: 0.9500 - val_loss: 0.3200 - val_acc: 0.8625\n",
      "Epoch 135/150\n",
      "320/320 [==============================] - 0s 405us/step - loss: 0.1133 - acc: 0.9625 - val_loss: 0.3178 - val_acc: 0.8625\n",
      "Epoch 136/150\n",
      "320/320 [==============================] - 0s 405us/step - loss: 0.1279 - acc: 0.9531 - val_loss: 0.3234 - val_acc: 0.8625\n",
      "Epoch 137/150\n",
      "320/320 [==============================] - 0s 446us/step - loss: 0.1306 - acc: 0.9500 - val_loss: 0.3117 - val_acc: 0.8625\n",
      "Epoch 138/150\n",
      "320/320 [==============================] - 0s 390us/step - loss: 0.1288 - acc: 0.9656 - val_loss: 0.3085 - val_acc: 0.8750\n",
      "Epoch 139/150\n",
      "320/320 [==============================] - 0s 399us/step - loss: 0.1058 - acc: 0.9625 - val_loss: 0.3214 - val_acc: 0.8625\n",
      "Epoch 140/150\n",
      "320/320 [==============================] - 0s 396us/step - loss: 0.1095 - acc: 0.9500 - val_loss: 0.3338 - val_acc: 0.8500\n",
      "Epoch 141/150\n",
      "320/320 [==============================] - 0s 405us/step - loss: 0.1257 - acc: 0.9375 - val_loss: 0.3356 - val_acc: 0.8500\n",
      "Epoch 142/150\n",
      "320/320 [==============================] - 0s 455us/step - loss: 0.1206 - acc: 0.9594 - val_loss: 0.3321 - val_acc: 0.8500\n",
      "Epoch 143/150\n",
      "320/320 [==============================] - 0s 424us/step - loss: 0.1129 - acc: 0.9563 - val_loss: 0.3206 - val_acc: 0.8625\n",
      "Epoch 144/150\n",
      "320/320 [==============================] - 0s 408us/step - loss: 0.1203 - acc: 0.9594 - val_loss: 0.3223 - val_acc: 0.8625\n",
      "Epoch 145/150\n",
      "320/320 [==============================] - 0s 421us/step - loss: 0.1006 - acc: 0.9656 - val_loss: 0.3228 - val_acc: 0.8625\n",
      "Epoch 146/150\n",
      "320/320 [==============================] - 0s 411us/step - loss: 0.1169 - acc: 0.9563 - val_loss: 0.3254 - val_acc: 0.8625\n",
      "Epoch 147/150\n",
      "320/320 [==============================] - 0s 458us/step - loss: 0.1059 - acc: 0.9688 - val_loss: 0.3280 - val_acc: 0.8625\n",
      "Epoch 148/150\n",
      "320/320 [==============================] - 0s 408us/step - loss: 0.1002 - acc: 0.9781 - val_loss: 0.3233 - val_acc: 0.8625\n",
      "Epoch 149/150\n",
      "320/320 [==============================] - 0s 405us/step - loss: 0.1140 - acc: 0.9688 - val_loss: 0.3263 - val_acc: 0.8625\n",
      "Epoch 150/150\n",
      "320/320 [==============================] - 0s 439us/step - loss: 0.1224 - acc: 0.9594 - val_loss: 0.3267 - val_acc: 0.8625\n"
     ]
    }
   ],
   "source": [
    "model = models.Sequential()\n",
    "\n",
    "model.add(layers.Dense(256, activation='relu', input_dim= 2 * 2 * 512))\n",
    "model.add(layers.Dropout(0.2))\n",
    "model.add(layers.Dense(128, activation='relu'))\n",
    "model.add(layers.Dropout(0.2))\n",
    "model.add(layers.Dense(64, activation='relu'))\n",
    "model.add(layers.Dropout(0.5))\n",
    "model.add(layers.Dense(2, activation='softmax'))\n",
    "\n",
    "\n",
    "model.compile(optimizer=optimizers.RMSprop(lr=2e-5),\n",
    "             loss='binary_crossentropy',\n",
    "             metrics=['acc'])\n",
    "\n",
    "history = model.fit(train_features, train_labels,\n",
    "                   epochs = 150,\n",
    "                   batch_size = 32,\n",
    "                   validation_data=(validation_features, validation_labels))"
   ]
  },
  {
   "cell_type": "code",
   "execution_count": 18,
   "metadata": {},
   "outputs": [
    {
     "name": "stdout",
     "output_type": "stream",
     "text": [
      "              precision    recall  f1-score   support\n",
      "\n",
      "    no_smile       0.67      1.00      0.80         2\n",
      "       smile       1.00      0.67      0.80         3\n",
      "\n",
      "    accuracy                           0.80         5\n",
      "   macro avg       0.83      0.83      0.80         5\n",
      "weighted avg       0.87      0.80      0.80         5\n",
      "\n"
     ]
    }
   ],
   "source": [
    "from sklearn.metrics import classification_report\n",
    "\n",
    "y_true = [0, 1, 1, 0, 1]\n",
    "y_pred = [0, 0, 1, 0, 1]\n",
    "labels = ['no_smile','smile']\n",
    "\n",
    "print(classification_report(y_true, y_pred, target_names=labels))"
   ]
  },
  {
   "cell_type": "code",
   "execution_count": 14,
   "metadata": {},
   "outputs": [
    {
     "data": {
      "text/plain": [
       "[]"
      ]
     },
     "execution_count": 14,
     "metadata": {},
     "output_type": "execute_result"
    }
   ],
   "source": [
    "import matplotlib.pyplot as plt\n",
    "\n",
    "acc = history.history['acc']\n",
    "val_acc = history.history['val_acc']\n",
    "loss = history.history['loss']\n",
    "val_loss = history.history['val_loss']\n",
    "\n",
    "epochs = range(1, len(acc) + 1)\n",
    "\n",
    "plt.plot(epochs, acc, 'bo', label='Training acc')\n",
    "plt.plot(epochs, val_acc, 'b', label='Validation acc')\n",
    "plt.title('Training and Validation accuracy')\n",
    "plt.legend()\n",
    "plt.figure()\n",
    "\n",
    "plt.plot(epochs, loss, 'bo', label='Training loss')\n",
    "plt.plot(epochs, val_loss, 'b', label='Validation loss')\n",
    "plt.title('Training and Validation loss')\n",
    "plt.legend()\n",
    "plt.plot()"
   ]
  },
  {
   "cell_type": "markdown",
   "metadata": {},
   "source": [
    "## Let's try it out with our own image!"
   ]
  },
  {
   "cell_type": "code",
   "execution_count": 19,
   "metadata": {},
   "outputs": [],
   "source": [
    "import matplotlib.pyplot as plt\n",
    "from keras.preprocessing import image"
   ]
  },
  {
   "cell_type": "code",
   "execution_count": 33,
   "metadata": {},
   "outputs": [
    {
     "data": {
      "text/plain": [
       "{'non_smile': 0, 'smile': 1}"
      ]
     },
     "execution_count": 33,
     "metadata": {},
     "output_type": "execute_result"
    }
   ],
   "source": [
    "label_map2"
   ]
  },
  {
   "cell_type": "code",
   "execution_count": 21,
   "metadata": {},
   "outputs": [],
   "source": [
    "def return_class(numeric_id):\n",
    "    for class_pred, id_class in label_map2.items():    # for name, age in dictionary.iteritems():  (for Python 2.x)\n",
    "        if id_class == numeric_id:\n",
    "            return class_pred"
   ]
  },
  {
   "cell_type": "code",
   "execution_count": 25,
   "metadata": {},
   "outputs": [],
   "source": [
    "def return_prediction(img_src,img_src_name):\n",
    "    test_features, test_labels, label_map = extract_features(img_src, 1)\n",
    "    test_features = np.reshape(test_features, (1, 2 * 2 * 512))\n",
    "    class_id = return_class(model.predict_classes(test_features)[0])\n",
    "    \n",
    "    img = image.load_img(img_src_name, target_size=(64, 64))\n",
    "    x = image.img_to_array(img)\n",
    "    x = np.expand_dims(x, axis=0)\n",
    "    x /= 255.\n",
    "\n",
    "    plt.imshow(x[0])                           \n",
    "    plt.axis('off')\n",
    "    plt.title(class_id)\n",
    "    plt.show()"
   ]
  },
  {
   "cell_type": "code",
   "execution_count": 35,
   "metadata": {},
   "outputs": [
    {
     "name": "stdout",
     "output_type": "stream",
     "text": [
      "Found 1 images belonging to 1 classes.\n"
     ]
    },
    {
     "data": {
      "image/png": "[encoded data removed]",
      "text/plain": [
       "<Figure size 432x288 with 1 Axes>"
      ]
     },
     "metadata": {
      "needs_background": "light"
     },
     "output_type": "display_data"
    }
   ],
   "source": [
    "return_prediction('images/unique_test','images/unique_test/class/justin_smile.jpg')"
   ]
  },
  {
   "cell_type": "code",
   "execution_count": null,
   "metadata": {},
   "outputs": [],
   "source": []
  }
 ],
 "metadata": {
  "kernelspec": {
   "display_name": "Python 3",
   "language": "python",
   "name": "python3"
  },
  "language_info": {
   "codemirror_mode": {
    "name": "ipython",
    "version": 3
   },
   "file_extension": ".py",
   "mimetype": "text/x-python",
   "name": "python",
   "nbconvert_exporter": "python",
   "pygments_lexer": "ipython3",
   "version": "3.7.4"
  }
 },
 "nbformat": 4,
 "nbformat_minor": 2
}
