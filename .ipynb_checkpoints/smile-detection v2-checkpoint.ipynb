{
 "cells": [
  {
   "cell_type": "markdown",
   "metadata": {},
   "source": [
    "# Transfer Learning"
   ]
  },
  {
   "cell_type": "code",
   "execution_count": 1,
   "metadata": {},
   "outputs": [
    {
     "name": "stderr",
     "output_type": "stream",
     "text": [
      "Using TensorFlow backend.\n",
      "c:\\users\\justin\\appdata\\local\\programs\\python\\python37\\lib\\site-packages\\tensorflow\\python\\framework\\dtypes.py:516: FutureWarning: Passing (type, 1) or '1type' as a synonym of type is deprecated; in a future version of numpy, it will be understood as (type, (1,)) / '(1,)type'.\n",
      "  _np_qint8 = np.dtype([(\"qint8\", np.int8, 1)])\n",
      "c:\\users\\justin\\appdata\\local\\programs\\python\\python37\\lib\\site-packages\\tensorflow\\python\\framework\\dtypes.py:517: FutureWarning: Passing (type, 1) or '1type' as a synonym of type is deprecated; in a future version of numpy, it will be understood as (type, (1,)) / '(1,)type'.\n",
      "  _np_quint8 = np.dtype([(\"quint8\", np.uint8, 1)])\n",
      "c:\\users\\justin\\appdata\\local\\programs\\python\\python37\\lib\\site-packages\\tensorflow\\python\\framework\\dtypes.py:518: FutureWarning: Passing (type, 1) or '1type' as a synonym of type is deprecated; in a future version of numpy, it will be understood as (type, (1,)) / '(1,)type'.\n",
      "  _np_qint16 = np.dtype([(\"qint16\", np.int16, 1)])\n",
      "c:\\users\\justin\\appdata\\local\\programs\\python\\python37\\lib\\site-packages\\tensorflow\\python\\framework\\dtypes.py:519: FutureWarning: Passing (type, 1) or '1type' as a synonym of type is deprecated; in a future version of numpy, it will be understood as (type, (1,)) / '(1,)type'.\n",
      "  _np_quint16 = np.dtype([(\"quint16\", np.uint16, 1)])\n",
      "c:\\users\\justin\\appdata\\local\\programs\\python\\python37\\lib\\site-packages\\tensorflow\\python\\framework\\dtypes.py:520: FutureWarning: Passing (type, 1) or '1type' as a synonym of type is deprecated; in a future version of numpy, it will be understood as (type, (1,)) / '(1,)type'.\n",
      "  _np_qint32 = np.dtype([(\"qint32\", np.int32, 1)])\n",
      "c:\\users\\justin\\appdata\\local\\programs\\python\\python37\\lib\\site-packages\\tensorflow\\python\\framework\\dtypes.py:525: FutureWarning: Passing (type, 1) or '1type' as a synonym of type is deprecated; in a future version of numpy, it will be understood as (type, (1,)) / '(1,)type'.\n",
      "  np_resource = np.dtype([(\"resource\", np.ubyte, 1)])\n",
      "c:\\users\\justin\\appdata\\local\\programs\\python\\python37\\lib\\site-packages\\tensorboard\\compat\\tensorflow_stub\\dtypes.py:541: FutureWarning: Passing (type, 1) or '1type' as a synonym of type is deprecated; in a future version of numpy, it will be understood as (type, (1,)) / '(1,)type'.\n",
      "  _np_qint8 = np.dtype([(\"qint8\", np.int8, 1)])\n",
      "c:\\users\\justin\\appdata\\local\\programs\\python\\python37\\lib\\site-packages\\tensorboard\\compat\\tensorflow_stub\\dtypes.py:542: FutureWarning: Passing (type, 1) or '1type' as a synonym of type is deprecated; in a future version of numpy, it will be understood as (type, (1,)) / '(1,)type'.\n",
      "  _np_quint8 = np.dtype([(\"quint8\", np.uint8, 1)])\n",
      "c:\\users\\justin\\appdata\\local\\programs\\python\\python37\\lib\\site-packages\\tensorboard\\compat\\tensorflow_stub\\dtypes.py:543: FutureWarning: Passing (type, 1) or '1type' as a synonym of type is deprecated; in a future version of numpy, it will be understood as (type, (1,)) / '(1,)type'.\n",
      "  _np_qint16 = np.dtype([(\"qint16\", np.int16, 1)])\n",
      "c:\\users\\justin\\appdata\\local\\programs\\python\\python37\\lib\\site-packages\\tensorboard\\compat\\tensorflow_stub\\dtypes.py:544: FutureWarning: Passing (type, 1) or '1type' as a synonym of type is deprecated; in a future version of numpy, it will be understood as (type, (1,)) / '(1,)type'.\n",
      "  _np_quint16 = np.dtype([(\"quint16\", np.uint16, 1)])\n",
      "c:\\users\\justin\\appdata\\local\\programs\\python\\python37\\lib\\site-packages\\tensorboard\\compat\\tensorflow_stub\\dtypes.py:545: FutureWarning: Passing (type, 1) or '1type' as a synonym of type is deprecated; in a future version of numpy, it will be understood as (type, (1,)) / '(1,)type'.\n",
      "  _np_qint32 = np.dtype([(\"qint32\", np.int32, 1)])\n",
      "c:\\users\\justin\\appdata\\local\\programs\\python\\python37\\lib\\site-packages\\tensorboard\\compat\\tensorflow_stub\\dtypes.py:550: FutureWarning: Passing (type, 1) or '1type' as a synonym of type is deprecated; in a future version of numpy, it will be understood as (type, (1,)) / '(1,)type'.\n",
      "  np_resource = np.dtype([(\"resource\", np.ubyte, 1)])\n"
     ]
    }
   ],
   "source": [
    "from keras.applications import VGG16"
   ]
  },
  {
   "cell_type": "code",
   "execution_count": 2,
   "metadata": {},
   "outputs": [
    {
     "name": "stdout",
     "output_type": "stream",
     "text": [
      "WARNING:tensorflow:From c:\\users\\justin\\appdata\\local\\programs\\python\\python37\\lib\\site-packages\\keras\\backend\\tensorflow_backend.py:4070: The name tf.nn.max_pool is deprecated. Please use tf.nn.max_pool2d instead.\n",
      "\n"
     ]
    }
   ],
   "source": [
    "# Load the convolutional base from imagenet\n",
    "conv_base = VGG16(weights='imagenet',\n",
    "                  include_top=False,\n",
    "                  input_shape=(64,64,3))"
   ]
  },
  {
   "cell_type": "code",
   "execution_count": 3,
   "metadata": {},
   "outputs": [],
   "source": [
    "#conv_base.summary()"
   ]
  },
  {
   "cell_type": "code",
   "execution_count": 4,
   "metadata": {},
   "outputs": [],
   "source": [
    "import os\n",
    "import numpy as np\n",
    "from keras.preprocessing.image import ImageDataGenerator"
   ]
  },
  {
   "cell_type": "code",
   "execution_count": 5,
   "metadata": {},
   "outputs": [],
   "source": [
    "# train_dir = 'images/training'\n",
    "# validation_dir = 'images/testing'\n",
    "\n",
    "train_dir = 'SMILE_Dataset/train/'\n",
    "validation_dir = 'SMILE_Dataset/test/'"
   ]
  },
  {
   "cell_type": "code",
   "execution_count": 6,
   "metadata": {},
   "outputs": [],
   "source": [
    "datagen = ImageDataGenerator(rescale=1./255)  # Rescale images to 0-1\n",
    "batch_size = 32  # Number of batches to read from default 32"
   ]
  },
  {
   "cell_type": "code",
   "execution_count": 10,
   "metadata": {},
   "outputs": [],
   "source": [
    "def extract_features(directory, sample_count):\n",
    "    \"\"\"\n",
    "    extract the features when processing images through the convolutional base. The features will be fed to \n",
    "    classification neural network\n",
    "    \"\"\"\n",
    "    # Create emtpy array\n",
    "    features = np.zeros(shape=(sample_count, 2, 2, 512))\n",
    "    # Here I added the shape \n",
    "    labels = np.zeros(shape=(sample_count,2))\n",
    "    # define the generator that is going to grab 20 images at a time and loop infinitly.\n",
    "    generator = datagen.flow_from_directory(\n",
    "        directory,\n",
    "        target_size=(64,64),\n",
    "        batch_size=batch_size,\n",
    "        class_mode='categorical'\n",
    "        )\n",
    "    # Usefull for mapping label names\n",
    "    label_map = (generator.class_indices)\n",
    "    i=0\n",
    "    \n",
    "    # Extract features\n",
    "    for inputs_batch, labels_batch in generator:\n",
    "        features_batch = conv_base.predict(inputs_batch)\n",
    "        features[i * batch_size : (i + 1) * batch_size] = features_batch\n",
    "        labels[i * batch_size : (i + 1) * batch_size] = labels_batch\n",
    "        i += 1\n",
    "        # Break because the generator will loop infinitly\n",
    "        if i * batch_size >= sample_count:\n",
    "            break\n",
    "    return features, labels, label_map"
   ]
  },
  {
   "cell_type": "code",
   "execution_count": 11,
   "metadata": {},
   "outputs": [
    {
     "name": "stdout",
     "output_type": "stream",
     "text": [
      "100\n",
      "100\n",
      "200\n"
     ]
    }
   ],
   "source": [
    "total_training = 0\n",
    "for folder in os.listdir(\"images/testing\"):\n",
    "    total_training += len(os.listdir( os.path.join('images/testing',folder)))\n",
    "    print(len(os.listdir( os.path.join('images/testing',folder))))\n",
    "print(total_training)"
   ]
  },
  {
   "cell_type": "code",
   "execution_count": 12,
   "metadata": {},
   "outputs": [
    {
     "name": "stdout",
     "output_type": "stream",
     "text": [
      "Found 1000 images belonging to 2 classes.\n",
      "Found 200 images belonging to 2 classes.\n"
     ]
    }
   ],
   "source": [
    "train_features, train_labels, label_map = extract_features(train_dir, 1000)\n",
    "validation_features, validation_labels, label_map = extract_features(validation_dir, 200)"
   ]
  },
  {
   "cell_type": "code",
   "execution_count": 13,
   "metadata": {},
   "outputs": [],
   "source": [
    "train_features = np.reshape(train_features, (1000, 2 * 2 * 512))\n",
    "validation_features = np.reshape(validation_features, (200, 2 * 2 * 512))"
   ]
  },
  {
   "cell_type": "code",
   "execution_count": 14,
   "metadata": {},
   "outputs": [],
   "source": [
    "label_map2 = label_map"
   ]
  },
  {
   "cell_type": "markdown",
   "metadata": {},
   "source": [
    "WE have transferer learned, now lets take this and feed it as input to our classification model.\n"
   ]
  },
  {
   "cell_type": "code",
   "execution_count": 15,
   "metadata": {},
   "outputs": [],
   "source": [
    "from keras import models\n",
    "from keras import layers\n",
    "from keras import optimizers"
   ]
  },
  {
   "cell_type": "code",
   "execution_count": 30,
   "metadata": {},
   "outputs": [
    {
     "name": "stdout",
     "output_type": "stream",
     "text": [
      "Train on 1000 samples, validate on 200 samples\n",
      "Epoch 1/150\n",
      "1000/1000 [==============================] - 1s 1ms/step - loss: 0.8064 - acc: 0.5070 - val_loss: 0.6687 - val_acc: 0.6350\n",
      "Epoch 2/150\n",
      "1000/1000 [==============================] - 1s 664us/step - loss: 0.7251 - acc: 0.5320 - val_loss: 0.6354 - val_acc: 0.7100\n",
      "Epoch 3/150\n",
      "1000/1000 [==============================] - 1s 649us/step - loss: 0.7164 - acc: 0.5550 - val_loss: 0.6015 - val_acc: 0.7600\n",
      "Epoch 4/150\n",
      "1000/1000 [==============================] - 1s 665us/step - loss: 0.6710 - acc: 0.6080 - val_loss: 0.5719 - val_acc: 0.7700\n",
      "Epoch 5/150\n",
      "1000/1000 [==============================] - 1s 684us/step - loss: 0.6713 - acc: 0.6130 - val_loss: 0.5485 - val_acc: 0.7850\n",
      "Epoch 6/150\n",
      "1000/1000 [==============================] - 1s 706us/step - loss: 0.6393 - acc: 0.6330 - val_loss: 0.5218 - val_acc: 0.8100\n",
      "Epoch 7/150\n",
      "1000/1000 [==============================] - 1s 699us/step - loss: 0.6057 - acc: 0.6750 - val_loss: 0.5007 - val_acc: 0.8100\n",
      "Epoch 8/150\n",
      "1000/1000 [==============================] - 1s 687us/step - loss: 0.5998 - acc: 0.6920 - val_loss: 0.4848 - val_acc: 0.8200\n",
      "Epoch 9/150\n",
      "1000/1000 [==============================] - 1s 713us/step - loss: 0.5847 - acc: 0.6860 - val_loss: 0.4794 - val_acc: 0.8250\n",
      "Epoch 10/150\n",
      "1000/1000 [==============================] - 1s 667us/step - loss: 0.5530 - acc: 0.7150 - val_loss: 0.4660 - val_acc: 0.82000s - loss: 0.5354 - acc: 0\n",
      "Epoch 11/150\n",
      "1000/1000 [==============================] - 1s 710us/step - loss: 0.5315 - acc: 0.7500 - val_loss: 0.4363 - val_acc: 0.8400\n",
      "Epoch 12/150\n",
      "1000/1000 [==============================] - 1s 698us/step - loss: 0.5358 - acc: 0.7250 - val_loss: 0.4252 - val_acc: 0.8400\n",
      "Epoch 13/150\n",
      "1000/1000 [==============================] - 1s 740us/step - loss: 0.5404 - acc: 0.7230 - val_loss: 0.4094 - val_acc: 0.8500\n",
      "Epoch 14/150\n",
      "1000/1000 [==============================] - 1s 712us/step - loss: 0.5135 - acc: 0.7680 - val_loss: 0.3911 - val_acc: 0.8500\n",
      "Epoch 15/150\n",
      "1000/1000 [==============================] - 1s 740us/step - loss: 0.4920 - acc: 0.7540 - val_loss: 0.3806 - val_acc: 0.8450\n",
      "Epoch 16/150\n",
      "1000/1000 [==============================] - 1s 685us/step - loss: 0.5025 - acc: 0.7690 - val_loss: 0.3756 - val_acc: 0.8500\n",
      "Epoch 17/150\n",
      "1000/1000 [==============================] - 1s 728us/step - loss: 0.4986 - acc: 0.7910 - val_loss: 0.3668 - val_acc: 0.8550\n",
      "Epoch 18/150\n",
      "1000/1000 [==============================] - 1s 718us/step - loss: 0.4788 - acc: 0.7960 - val_loss: 0.3655 - val_acc: 0.8700\n",
      "Epoch 19/150\n",
      "1000/1000 [==============================] - 1s 662us/step - loss: 0.4636 - acc: 0.7970 - val_loss: 0.3455 - val_acc: 0.8550\n",
      "Epoch 20/150\n",
      "1000/1000 [==============================] - 1s 654us/step - loss: 0.4754 - acc: 0.7790 - val_loss: 0.3459 - val_acc: 0.8700\n",
      "Epoch 21/150\n",
      "1000/1000 [==============================] - 1s 699us/step - loss: 0.4574 - acc: 0.7930 - val_loss: 0.3360 - val_acc: 0.8700\n",
      "Epoch 22/150\n",
      "1000/1000 [==============================] - 1s 681us/step - loss: 0.4366 - acc: 0.8170 - val_loss: 0.3387 - val_acc: 0.8700\n",
      "Epoch 23/150\n",
      "1000/1000 [==============================] - 1s 687us/step - loss: 0.4200 - acc: 0.8200 - val_loss: 0.3261 - val_acc: 0.8700\n",
      "Epoch 24/150\n",
      "1000/1000 [==============================] - 1s 708us/step - loss: 0.4280 - acc: 0.8160 - val_loss: 0.3112 - val_acc: 0.8750\n",
      "Epoch 25/150\n",
      "1000/1000 [==============================] - 1s 708us/step - loss: 0.4240 - acc: 0.8090 - val_loss: 0.3081 - val_acc: 0.8750\n",
      "Epoch 26/150\n",
      "1000/1000 [==============================] - 1s 738us/step - loss: 0.4186 - acc: 0.8090 - val_loss: 0.3020 - val_acc: 0.8800\n",
      "Epoch 27/150\n",
      "1000/1000 [==============================] - 1s 715us/step - loss: 0.4138 - acc: 0.8220 - val_loss: 0.3013 - val_acc: 0.8800\n",
      "Epoch 28/150\n",
      "1000/1000 [==============================] - 1s 687us/step - loss: 0.4166 - acc: 0.8200 - val_loss: 0.2944 - val_acc: 0.8900\n",
      "Epoch 29/150\n",
      "1000/1000 [==============================] - 1s 670us/step - loss: 0.3980 - acc: 0.8240 - val_loss: 0.3039 - val_acc: 0.8800\n",
      "Epoch 30/150\n",
      "1000/1000 [==============================] - 1s 721us/step - loss: 0.4011 - acc: 0.8250 - val_loss: 0.2981 - val_acc: 0.8750\n",
      "Epoch 31/150\n",
      "1000/1000 [==============================] - 1s 676us/step - loss: 0.3872 - acc: 0.8270 - val_loss: 0.2887 - val_acc: 0.8900\n",
      "Epoch 32/150\n",
      "1000/1000 [==============================] - 1s 726us/step - loss: 0.3803 - acc: 0.8280 - val_loss: 0.2813 - val_acc: 0.8900\n",
      "Epoch 33/150\n",
      "1000/1000 [==============================] - 1s 663us/step - loss: 0.3672 - acc: 0.8450 - val_loss: 0.2704 - val_acc: 0.8950\n",
      "Epoch 34/150\n",
      "1000/1000 [==============================] - 1s 704us/step - loss: 0.3896 - acc: 0.8430 - val_loss: 0.2673 - val_acc: 0.9000\n",
      "Epoch 35/150\n",
      "1000/1000 [==============================] - 1s 791us/step - loss: 0.3648 - acc: 0.8490 - val_loss: 0.2566 - val_acc: 0.9000\n",
      "Epoch 36/150\n",
      "1000/1000 [==============================] - 1s 692us/step - loss: 0.3600 - acc: 0.8480 - val_loss: 0.2605 - val_acc: 0.9000\n",
      "Epoch 37/150\n",
      "1000/1000 [==============================] - 1s 706us/step - loss: 0.3496 - acc: 0.8610 - val_loss: 0.2575 - val_acc: 0.9000\n",
      "Epoch 38/150\n",
      "1000/1000 [==============================] - 1s 763us/step - loss: 0.3304 - acc: 0.8470 - val_loss: 0.2576 - val_acc: 0.9000\n",
      "Epoch 39/150\n",
      "1000/1000 [==============================] - 1s 703us/step - loss: 0.3386 - acc: 0.8550 - val_loss: 0.2625 - val_acc: 0.8950\n",
      "Epoch 40/150\n",
      "1000/1000 [==============================] - 1s 727us/step - loss: 0.3494 - acc: 0.8450 - val_loss: 0.2562 - val_acc: 0.9000\n",
      "Epoch 41/150\n",
      "1000/1000 [==============================] - 1s 690us/step - loss: 0.3533 - acc: 0.8470 - val_loss: 0.2514 - val_acc: 0.9000\n",
      "Epoch 42/150\n",
      "1000/1000 [==============================] - 1s 689us/step - loss: 0.3254 - acc: 0.8710 - val_loss: 0.2521 - val_acc: 0.8950\n",
      "Epoch 43/150\n",
      "1000/1000 [==============================] - 1s 704us/step - loss: 0.3156 - acc: 0.8740 - val_loss: 0.2490 - val_acc: 0.9000\n",
      "Epoch 44/150\n",
      "1000/1000 [==============================] - 1s 670us/step - loss: 0.3209 - acc: 0.8730 - val_loss: 0.2323 - val_acc: 0.9100\n",
      "Epoch 45/150\n",
      "1000/1000 [==============================] - 1s 655us/step - loss: 0.3352 - acc: 0.8560 - val_loss: 0.2370 - val_acc: 0.9050\n",
      "Epoch 46/150\n",
      "1000/1000 [==============================] - 1s 691us/step - loss: 0.2998 - acc: 0.8910 - val_loss: 0.2299 - val_acc: 0.9100\n",
      "Epoch 47/150\n",
      "1000/1000 [==============================] - 1s 690us/step - loss: 0.3156 - acc: 0.8790 - val_loss: 0.2321 - val_acc: 0.9000\n",
      "Epoch 48/150\n",
      "1000/1000 [==============================] - 1s 639us/step - loss: 0.3036 - acc: 0.8750 - val_loss: 0.2326 - val_acc: 0.9000\n",
      "Epoch 49/150\n",
      "1000/1000 [==============================] - 1s 656us/step - loss: 0.2998 - acc: 0.8780 - val_loss: 0.2215 - val_acc: 0.9000\n",
      "Epoch 50/150\n",
      "1000/1000 [==============================] - 1s 656us/step - loss: 0.3087 - acc: 0.8730 - val_loss: 0.2153 - val_acc: 0.9150\n",
      "Epoch 51/150\n",
      "1000/1000 [==============================] - 1s 648us/step - loss: 0.3003 - acc: 0.8760 - val_loss: 0.2239 - val_acc: 0.8950\n",
      "Epoch 52/150\n",
      "1000/1000 [==============================] - 1s 642us/step - loss: 0.3047 - acc: 0.8720 - val_loss: 0.2135 - val_acc: 0.9150\n",
      "Epoch 53/150\n",
      "1000/1000 [==============================] - 1s 652us/step - loss: 0.2911 - acc: 0.8920 - val_loss: 0.2324 - val_acc: 0.9050\n",
      "Epoch 54/150\n",
      "1000/1000 [==============================] - 1s 695us/step - loss: 0.2831 - acc: 0.8770 - val_loss: 0.2204 - val_acc: 0.9050\n",
      "Epoch 55/150\n",
      "1000/1000 [==============================] - 1s 670us/step - loss: 0.2776 - acc: 0.8860 - val_loss: 0.2157 - val_acc: 0.9100\n",
      "Epoch 56/150\n",
      "1000/1000 [==============================] - 1s 687us/step - loss: 0.2699 - acc: 0.8880 - val_loss: 0.2026 - val_acc: 0.9150\n",
      "Epoch 57/150\n",
      "1000/1000 [==============================] - 1s 726us/step - loss: 0.2638 - acc: 0.9030 - val_loss: 0.2079 - val_acc: 0.9150\n",
      "Epoch 58/150\n",
      "1000/1000 [==============================] - 1s 713us/step - loss: 0.2752 - acc: 0.8910 - val_loss: 0.2044 - val_acc: 0.9100\n",
      "Epoch 59/150\n",
      "1000/1000 [==============================] - 1s 732us/step - loss: 0.2439 - acc: 0.9070 - val_loss: 0.2038 - val_acc: 0.9050\n"
     ]
    },
    {
     "name": "stdout",
     "output_type": "stream",
     "text": [
      "Epoch 60/150\n",
      "1000/1000 [==============================] - 1s 665us/step - loss: 0.2489 - acc: 0.8960 - val_loss: 0.2173 - val_acc: 0.9050\n",
      "Epoch 61/150\n",
      "1000/1000 [==============================] - ETA: 0s - loss: 0.2576 - acc: 0.9012- ETA: 0s - loss: 0.2749 - acc: - 1s 683us/step - loss: 0.2577 - acc: 0.9020 - val_loss: 0.2048 - val_acc: 0.9150\n",
      "Epoch 62/150\n",
      "1000/1000 [==============================] - 1s 701us/step - loss: 0.2636 - acc: 0.8850 - val_loss: 0.2034 - val_acc: 0.9150\n",
      "Epoch 63/150\n",
      "1000/1000 [==============================] - 1s 687us/step - loss: 0.2644 - acc: 0.8930 - val_loss: 0.1971 - val_acc: 0.9100\n",
      "Epoch 64/150\n",
      "1000/1000 [==============================] - 1s 652us/step - loss: 0.2545 - acc: 0.8970 - val_loss: 0.1856 - val_acc: 0.9300\n",
      "Epoch 65/150\n",
      "1000/1000 [==============================] - 1s 665us/step - loss: 0.2442 - acc: 0.9120 - val_loss: 0.1856 - val_acc: 0.9200\n",
      "Epoch 66/150\n",
      "1000/1000 [==============================] - 1s 670us/step - loss: 0.2425 - acc: 0.9070 - val_loss: 0.2114 - val_acc: 0.9000\n",
      "Epoch 67/150\n",
      "1000/1000 [==============================] - 1s 674us/step - loss: 0.2282 - acc: 0.9070 - val_loss: 0.1947 - val_acc: 0.9150\n",
      "Epoch 68/150\n",
      "1000/1000 [==============================] - 1s 649us/step - loss: 0.2319 - acc: 0.9180 - val_loss: 0.2037 - val_acc: 0.9100\n",
      "Epoch 69/150\n",
      "1000/1000 [==============================] - 1s 645us/step - loss: 0.2383 - acc: 0.9030 - val_loss: 0.1884 - val_acc: 0.9200\n",
      "Epoch 70/150\n",
      "1000/1000 [==============================] - 1s 737us/step - loss: 0.2171 - acc: 0.9220 - val_loss: 0.1927 - val_acc: 0.9200\n",
      "Epoch 71/150\n",
      "1000/1000 [==============================] - 1s 738us/step - loss: 0.2156 - acc: 0.9160 - val_loss: 0.2092 - val_acc: 0.9050\n",
      "Epoch 72/150\n",
      "1000/1000 [==============================] - 1s 731us/step - loss: 0.2156 - acc: 0.9140 - val_loss: 0.1691 - val_acc: 0.9350\n",
      "Epoch 73/150\n",
      "1000/1000 [==============================] - 1s 744us/step - loss: 0.2120 - acc: 0.9270 - val_loss: 0.1771 - val_acc: 0.9300\n",
      "Epoch 74/150\n",
      "1000/1000 [==============================] - 1s 722us/step - loss: 0.2184 - acc: 0.9080 - val_loss: 0.1779 - val_acc: 0.9200\n",
      "Epoch 75/150\n",
      "1000/1000 [==============================] - 1s 736us/step - loss: 0.2190 - acc: 0.9160 - val_loss: 0.1712 - val_acc: 0.9300\n",
      "Epoch 76/150\n",
      "1000/1000 [==============================] - 1s 737us/step - loss: 0.2036 - acc: 0.9310 - val_loss: 0.1826 - val_acc: 0.9200\n",
      "Epoch 77/150\n",
      "1000/1000 [==============================] - 1s 710us/step - loss: 0.2131 - acc: 0.9250 - val_loss: 0.1752 - val_acc: 0.9350\n",
      "Epoch 78/150\n",
      "1000/1000 [==============================] - 1s 748us/step - loss: 0.2052 - acc: 0.9190 - val_loss: 0.1763 - val_acc: 0.9300\n",
      "Epoch 79/150\n",
      "1000/1000 [==============================] - 1s 703us/step - loss: 0.1851 - acc: 0.9280 - val_loss: 0.1869 - val_acc: 0.9100\n",
      "Epoch 80/150\n",
      "1000/1000 [==============================] - 1s 723us/step - loss: 0.1991 - acc: 0.9170 - val_loss: 0.1776 - val_acc: 0.9250\n",
      "Epoch 81/150\n",
      "1000/1000 [==============================] - 1s 687us/step - loss: 0.1926 - acc: 0.9190 - val_loss: 0.1837 - val_acc: 0.9150\n",
      "Epoch 82/150\n",
      "1000/1000 [==============================] - 1s 682us/step - loss: 0.1812 - acc: 0.9310 - val_loss: 0.1697 - val_acc: 0.9350\n",
      "Epoch 83/150\n",
      "1000/1000 [==============================] - 1s 679us/step - loss: 0.1842 - acc: 0.9300 - val_loss: 0.1666 - val_acc: 0.9350\n",
      "Epoch 84/150\n",
      "1000/1000 [==============================] - 1s 686us/step - loss: 0.1879 - acc: 0.9300 - val_loss: 0.1723 - val_acc: 0.9350\n",
      "Epoch 85/150\n",
      "1000/1000 [==============================] - 1s 665us/step - loss: 0.1808 - acc: 0.9390 - val_loss: 0.1661 - val_acc: 0.9350\n",
      "Epoch 86/150\n",
      "1000/1000 [==============================] - 1s 673us/step - loss: 0.1814 - acc: 0.9270 - val_loss: 0.1730 - val_acc: 0.9300\n",
      "Epoch 87/150\n",
      "1000/1000 [==============================] - 1s 648us/step - loss: 0.1839 - acc: 0.9300 - val_loss: 0.1705 - val_acc: 0.9300\n",
      "Epoch 88/150\n",
      "1000/1000 [==============================] - 1s 746us/step - loss: 0.1778 - acc: 0.9380 - val_loss: 0.1635 - val_acc: 0.9350\n",
      "Epoch 89/150\n",
      "1000/1000 [==============================] - 1s 667us/step - loss: 0.1738 - acc: 0.9360 - val_loss: 0.1615 - val_acc: 0.9350\n",
      "Epoch 90/150\n",
      "1000/1000 [==============================] - 1s 672us/step - loss: 0.1736 - acc: 0.9300 - val_loss: 0.1667 - val_acc: 0.9350\n",
      "Epoch 91/150\n",
      "1000/1000 [==============================] - 1s 727us/step - loss: 0.1666 - acc: 0.9350 - val_loss: 0.1676 - val_acc: 0.9350\n",
      "Epoch 92/150\n",
      "1000/1000 [==============================] - 1s 671us/step - loss: 0.1634 - acc: 0.9430 - val_loss: 0.1605 - val_acc: 0.9350\n",
      "Epoch 93/150\n",
      "1000/1000 [==============================] - 1s 672us/step - loss: 0.1612 - acc: 0.9410 - val_loss: 0.1622 - val_acc: 0.9350\n",
      "Epoch 94/150\n",
      "1000/1000 [==============================] - 1s 685us/step - loss: 0.1624 - acc: 0.9350 - val_loss: 0.1589 - val_acc: 0.9350\n",
      "Epoch 95/150\n",
      "1000/1000 [==============================] - 1s 671us/step - loss: 0.1613 - acc: 0.9440 - val_loss: 0.1554 - val_acc: 0.9350: 0s - loss: 0.1573 - acc: 0.94\n",
      "Epoch 96/150\n",
      "1000/1000 [==============================] - 1s 688us/step - loss: 0.1601 - acc: 0.9400 - val_loss: 0.1599 - val_acc: 0.9350\n",
      "Epoch 97/150\n",
      "1000/1000 [==============================] - 1s 665us/step - loss: 0.1519 - acc: 0.9440 - val_loss: 0.1650 - val_acc: 0.9300\n",
      "Epoch 98/150\n",
      "1000/1000 [==============================] - 1s 703us/step - loss: 0.1526 - acc: 0.9350 - val_loss: 0.1587 - val_acc: 0.9400\n",
      "Epoch 99/150\n",
      "1000/1000 [==============================] - 1s 655us/step - loss: 0.1527 - acc: 0.9420 - val_loss: 0.1752 - val_acc: 0.9350\n",
      "Epoch 100/150\n",
      "1000/1000 [==============================] - 1s 684us/step - loss: 0.1615 - acc: 0.9380 - val_loss: 0.1570 - val_acc: 0.9400\n",
      "Epoch 101/150\n",
      "1000/1000 [==============================] - 1s 691us/step - loss: 0.1438 - acc: 0.9470 - val_loss: 0.1613 - val_acc: 0.9350\n",
      "Epoch 102/150\n",
      "1000/1000 [==============================] - 1s 675us/step - loss: 0.1391 - acc: 0.9510 - val_loss: 0.1523 - val_acc: 0.9450\n",
      "Epoch 103/150\n",
      "1000/1000 [==============================] - 1s 687us/step - loss: 0.1454 - acc: 0.9410 - val_loss: 0.1537 - val_acc: 0.9400\n",
      "Epoch 104/150\n",
      "1000/1000 [==============================] - 1s 711us/step - loss: 0.1423 - acc: 0.9490 - val_loss: 0.1674 - val_acc: 0.9300\n",
      "Epoch 105/150\n",
      "1000/1000 [==============================] - 1s 665us/step - loss: 0.1456 - acc: 0.9520 - val_loss: 0.1613 - val_acc: 0.9350\n",
      "Epoch 106/150\n",
      "1000/1000 [==============================] - 1s 653us/step - loss: 0.1357 - acc: 0.9510 - val_loss: 0.1787 - val_acc: 0.9200\n",
      "Epoch 107/150\n",
      "1000/1000 [==============================] - 1s 668us/step - loss: 0.1366 - acc: 0.9470 - val_loss: 0.1503 - val_acc: 0.9450\n",
      "Epoch 108/150\n",
      "1000/1000 [==============================] - 1s 681us/step - loss: 0.1380 - acc: 0.9500 - val_loss: 0.1534 - val_acc: 0.9400\n",
      "Epoch 109/150\n",
      "1000/1000 [==============================] - 1s 693us/step - loss: 0.1375 - acc: 0.9500 - val_loss: 0.1490 - val_acc: 0.9450\n",
      "Epoch 110/150\n",
      "1000/1000 [==============================] - 1s 653us/step - loss: 0.1298 - acc: 0.9520 - val_loss: 0.1648 - val_acc: 0.9350\n",
      "Epoch 111/150\n",
      "1000/1000 [==============================] - 1s 684us/step - loss: 0.1236 - acc: 0.9520 - val_loss: 0.1494 - val_acc: 0.9450\n",
      "Epoch 112/150\n",
      "1000/1000 [==============================] - 1s 690us/step - loss: 0.1156 - acc: 0.9610 - val_loss: 0.1457 - val_acc: 0.9450\n",
      "Epoch 113/150\n",
      "1000/1000 [==============================] - 1s 697us/step - loss: 0.1255 - acc: 0.9550 - val_loss: 0.1505 - val_acc: 0.9450\n",
      "Epoch 114/150\n",
      "1000/1000 [==============================] - 1s 678us/step - loss: 0.1274 - acc: 0.9480 - val_loss: 0.1491 - val_acc: 0.9350\n",
      "Epoch 115/150\n",
      "1000/1000 [==============================] - 1s 656us/step - loss: 0.1235 - acc: 0.9520 - val_loss: 0.1715 - val_acc: 0.9350\n",
      "Epoch 116/150\n",
      "1000/1000 [==============================] - 1s 677us/step - loss: 0.1215 - acc: 0.9550 - val_loss: 0.1495 - val_acc: 0.9350\n",
      "Epoch 117/150\n",
      "1000/1000 [==============================] - 1s 651us/step - loss: 0.1175 - acc: 0.9600 - val_loss: 0.1510 - val_acc: 0.9400\n",
      "Epoch 118/150\n",
      "1000/1000 [==============================] - 1s 645us/step - loss: 0.1136 - acc: 0.9580 - val_loss: 0.1504 - val_acc: 0.9450\n",
      "Epoch 119/150\n",
      "1000/1000 [==============================] - 1s 688us/step - loss: 0.1079 - acc: 0.9640 - val_loss: 0.1531 - val_acc: 0.9400\n",
      "Epoch 120/150\n",
      "1000/1000 [==============================] - 1s 714us/step - loss: 0.1007 - acc: 0.9690 - val_loss: 0.1426 - val_acc: 0.9400\n",
      "Epoch 121/150\n",
      "1000/1000 [==============================] - 1s 653us/step - loss: 0.0983 - acc: 0.9670 - val_loss: 0.1464 - val_acc: 0.9400\n",
      "Epoch 122/150\n",
      "1000/1000 [==============================] - 1s 682us/step - loss: 0.1201 - acc: 0.9590 - val_loss: 0.1623 - val_acc: 0.9400\n",
      "Epoch 123/150\n",
      "1000/1000 [==============================] - 1s 685us/step - loss: 0.1046 - acc: 0.9640 - val_loss: 0.1489 - val_acc: 0.9350\n",
      "Epoch 124/150\n",
      "1000/1000 [==============================] - 1s 683us/step - loss: 0.1065 - acc: 0.9630 - val_loss: 0.1492 - val_acc: 0.9550\n",
      "Epoch 125/150\n",
      "1000/1000 [==============================] - 1s 677us/step - loss: 0.1019 - acc: 0.9620 - val_loss: 0.1564 - val_acc: 0.9400\n",
      "Epoch 126/150\n",
      "1000/1000 [==============================] - 1s 692us/step - loss: 0.0950 - acc: 0.9650 - val_loss: 0.1447 - val_acc: 0.9400\n",
      "Epoch 127/150\n",
      "1000/1000 [==============================] - 1s 648us/step - loss: 0.1000 - acc: 0.9650 - val_loss: 0.1491 - val_acc: 0.9400\n",
      "Epoch 128/150\n",
      "1000/1000 [==============================] - 1s 721us/step - loss: 0.0962 - acc: 0.9690 - val_loss: 0.1695 - val_acc: 0.9350\n",
      "Epoch 129/150\n",
      "1000/1000 [==============================] - 1s 703us/step - loss: 0.1095 - acc: 0.9650 - val_loss: 0.1506 - val_acc: 0.9450\n",
      "Epoch 130/150\n",
      "1000/1000 [==============================] - 1s 714us/step - loss: 0.0996 - acc: 0.9640 - val_loss: 0.1534 - val_acc: 0.9450\n",
      "Epoch 131/150\n",
      "1000/1000 [==============================] - 1s 762us/step - loss: 0.0935 - acc: 0.9680 - val_loss: 0.1574 - val_acc: 0.9400\n",
      "Epoch 132/150\n",
      "1000/1000 [==============================] - 1s 742us/step - loss: 0.0897 - acc: 0.9660 - val_loss: 0.1469 - val_acc: 0.9450\n",
      "Epoch 133/150\n",
      "1000/1000 [==============================] - 1s 761us/step - loss: 0.0898 - acc: 0.9710 - val_loss: 0.1538 - val_acc: 0.9450\n",
      "Epoch 134/150\n",
      "1000/1000 [==============================] - 1s 744us/step - loss: 0.1017 - acc: 0.9580 - val_loss: 0.1667 - val_acc: 0.9300\n",
      "Epoch 135/150\n",
      "1000/1000 [==============================] - 1s 722us/step - loss: 0.0865 - acc: 0.9730 - val_loss: 0.1491 - val_acc: 0.9400\n",
      "Epoch 136/150\n",
      "1000/1000 [==============================] - 1s 690us/step - loss: 0.0927 - acc: 0.9640 - val_loss: 0.1520 - val_acc: 0.9350\n",
      "Epoch 137/150\n",
      "1000/1000 [==============================] - 1s 672us/step - loss: 0.0934 - acc: 0.9680 - val_loss: 0.1549 - val_acc: 0.9400\n",
      "Epoch 138/150\n",
      "1000/1000 [==============================] - 1s 666us/step - loss: 0.0912 - acc: 0.9700 - val_loss: 0.1510 - val_acc: 0.9350\n",
      "Epoch 139/150\n",
      "1000/1000 [==============================] - 1s 704us/step - loss: 0.0776 - acc: 0.9670 - val_loss: 0.1541 - val_acc: 0.9400\n",
      "Epoch 140/150\n",
      "1000/1000 [==============================] - 1s 694us/step - loss: 0.0862 - acc: 0.9710 - val_loss: 0.1738 - val_acc: 0.9300\n",
      "Epoch 141/150\n",
      "1000/1000 [==============================] - 1s 683us/step - loss: 0.0896 - acc: 0.9710 - val_loss: 0.1514 - val_acc: 0.9350\n",
      "Epoch 142/150\n",
      "1000/1000 [==============================] - 1s 682us/step - loss: 0.0751 - acc: 0.9780 - val_loss: 0.1652 - val_acc: 0.9400\n",
      "Epoch 143/150\n",
      "1000/1000 [==============================] - 1s 718us/step - loss: 0.0821 - acc: 0.9740 - val_loss: 0.1504 - val_acc: 0.9400\n",
      "Epoch 144/150\n",
      "1000/1000 [==============================] - 1s 670us/step - loss: 0.0849 - acc: 0.9750 - val_loss: 0.1554 - val_acc: 0.9450\n",
      "Epoch 145/150\n",
      "1000/1000 [==============================] - 1s 650us/step - loss: 0.0820 - acc: 0.9730 - val_loss: 0.1569 - val_acc: 0.9450\n",
      "Epoch 146/150\n",
      "1000/1000 [==============================] - 1s 688us/step - loss: 0.0782 - acc: 0.9720 - val_loss: 0.1489 - val_acc: 0.9450\n",
      "Epoch 147/150\n",
      "1000/1000 [==============================] - 1s 655us/step - loss: 0.0842 - acc: 0.9660 - val_loss: 0.1509 - val_acc: 0.9400\n",
      "Epoch 148/150\n",
      "1000/1000 [==============================] - 1s 676us/step - loss: 0.0714 - acc: 0.9730 - val_loss: 0.1553 - val_acc: 0.9450\n",
      "Epoch 149/150\n",
      "1000/1000 [==============================] - 1s 705us/step - loss: 0.0782 - acc: 0.9710 - val_loss: 0.1516 - val_acc: 0.9500\n",
      "Epoch 150/150\n",
      "1000/1000 [==============================] - 1s 652us/step - loss: 0.0716 - acc: 0.9680 - val_loss: 0.1550 - val_acc: 0.9450\n"
     ]
    }
   ],
   "source": [
    "model = models.Sequential()\n",
    "\n",
    "model.add(layers.Dense(256, activation='relu', input_dim= 2 * 2 * 512))\n",
    "model.add(layers.Dropout(0.2))\n",
    "model.add(layers.Dense(128, activation='relu'))\n",
    "model.add(layers.Dropout(0.2))\n",
    "model.add(layers.Dense(64, activation='relu'))\n",
    "model.add(layers.Dropout(0.5))\n",
    "model.add(layers.Dense(2, activation='softmax'))\n",
    "\n",
    "\n",
    "model.compile(optimizer=optimizers.RMSprop(lr=2e-5),\n",
    "             loss='binary_crossentropy',\n",
    "             metrics=['acc'])\n",
    "\n",
    "history = model.fit(train_features, train_labels,\n",
    "                   epochs = 150,\n",
    "                   batch_size = 32,\n",
    "                   validation_data=(validation_features, validation_labels))"
   ]
  },
  {
   "cell_type": "code",
   "execution_count": 32,
   "metadata": {},
   "outputs": [
    {
     "data": {
      "text/plain": [
       "[]"
      ]
     },
     "execution_count": 32,
     "metadata": {},
     "output_type": "execute_result"
    },
    {
     "data": {
      "image/png": "[encoded data removed]",
      "text/plain": [
       "<Figure size 432x288 with 1 Axes>"
      ]
     },
     "metadata": {
      "needs_background": "light"
     },
     "output_type": "display_data"
    },
    {
     "data": {
      "image/png": "[encoded data removed]",
      "text/plain": [
       "<Figure size 432x288 with 1 Axes>"
      ]
     },
     "metadata": {
      "needs_background": "light"
     },
     "output_type": "display_data"
    }
   ],
   "source": [
    "import matplotlib.pyplot as plt\n",
    "\n",
    "acc = history.history['acc']\n",
    "val_acc = history.history['val_acc']\n",
    "loss = history.history['loss']\n",
    "val_loss = history.history['val_loss']\n",
    "\n",
    "epochs = range(1, len(acc) + 1)\n",
    "\n",
    "plt.plot(epochs, acc, 'bo', label='Training acc')\n",
    "plt.plot(epochs, val_acc, 'b', label='Validation acc')\n",
    "plt.title('Training and Validation accuracy')\n",
    "plt.legend()\n",
    "plt.figure()\n",
    "\n",
    "plt.plot(epochs, loss, 'bo', label='Training loss')\n",
    "plt.plot(epochs, val_loss, 'b', label='Validation loss')\n",
    "plt.title('Training and Validation loss')\n",
    "plt.legend()\n",
    "plt.plot()"
   ]
  },
  {
   "cell_type": "markdown",
   "metadata": {},
   "source": [
    "## Let's try it out with our own image!"
   ]
  },
  {
   "cell_type": "code",
   "execution_count": 19,
   "metadata": {},
   "outputs": [],
   "source": [
    "import matplotlib.pyplot as plt\n",
    "from keras.preprocessing import image"
   ]
  },
  {
   "cell_type": "code",
   "execution_count": 33,
   "metadata": {},
   "outputs": [
    {
     "data": {
      "text/plain": [
       "{'non_smile': 0, 'smile': 1}"
      ]
     },
     "execution_count": 33,
     "metadata": {},
     "output_type": "execute_result"
    }
   ],
   "source": [
    "label_map2"
   ]
  },
  {
   "cell_type": "code",
   "execution_count": 21,
   "metadata": {},
   "outputs": [],
   "source": [
    "def return_class(numeric_id):\n",
    "    for class_pred, id_class in label_map2.items():    # for name, age in dictionary.iteritems():  (for Python 2.x)\n",
    "        if id_class == numeric_id:\n",
    "            return class_pred"
   ]
  },
  {
   "cell_type": "code",
   "execution_count": 25,
   "metadata": {},
   "outputs": [],
   "source": [
    "def return_prediction(img_src,img_src_name):\n",
    "    test_features, test_labels, label_map = extract_features(img_src, 1)\n",
    "    test_features = np.reshape(test_features, (1, 2 * 2 * 512))\n",
    "    class_id = return_class(model.predict_classes(test_features)[0])\n",
    "    \n",
    "    img = image.load_img(img_src_name, target_size=(64, 64))\n",
    "    x = image.img_to_array(img)\n",
    "    x = np.expand_dims(x, axis=0)\n",
    "    x /= 255.\n",
    "\n",
    "    plt.imshow(x[0])                           \n",
    "    plt.axis('off')\n",
    "    plt.title(class_id)\n",
    "    plt.show()"
   ]
  },
  {
   "cell_type": "code",
   "execution_count": 35,
   "metadata": {},
   "outputs": [
    {
     "name": "stdout",
     "output_type": "stream",
     "text": [
      "Found 1 images belonging to 1 classes.\n"
     ]
    },
    {
     "data": {
      "image/png": "[encoded data removed]",
      "text/plain": [
       "<Figure size 432x288 with 1 Axes>"
      ]
     },
     "metadata": {
      "needs_background": "light"
     },
     "output_type": "display_data"
    }
   ],
   "source": [
    "return_prediction('images/unique_test','images/unique_test/class/justin_smile.jpg')"
   ]
  },
  {
   "cell_type": "code",
   "execution_count": null,
   "metadata": {},
   "outputs": [],
   "source": []
  }
 ],
 "metadata": {
  "kernelspec": {
   "display_name": "Python 3",
   "language": "python",
   "name": "python3"
  },
  "language_info": {
   "codemirror_mode": {
    "name": "ipython",
    "version": 3
   },
   "file_extension": ".py",
   "mimetype": "text/x-python",
   "name": "python",
   "nbconvert_exporter": "python",
   "pygments_lexer": "ipython3",
   "version": "3.7.4"
  }
 },
 "nbformat": 4,
 "nbformat_minor": 2
}
